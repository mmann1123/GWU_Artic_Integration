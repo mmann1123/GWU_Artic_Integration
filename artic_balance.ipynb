{
 "cells": [
  {
   "cell_type": "markdown",
   "metadata": {},
   "source": [
    "# Find longest continuous dataset"
   ]
  },
  {
   "cell_type": "code",
   "execution_count": 179,
   "metadata": {},
   "outputs": [
    {
     "name": "stdout",
     "output_type": "stream",
     "text": [
      "   Region          PF Site    Yr Active_Layer_cm  sqrt_Thaw_Degree_Days  \\\n",
      "0  Alaska  Continuous   U1  1993              30              12.853198   \n",
      "1  Alaska  Continuous   U1  1994              35               6.447333   \n",
      "2  Alaska  Continuous   U1  1995              35              10.237655   \n",
      "3  Alaska  Continuous   U1  1996              36               9.401592   \n",
      "4  Alaska  Continuous   U1  1997              37              14.398287   \n",
      "\n",
      "   Max_Snow_Depth_mm  Total_Precipitation_mm       Year Yearstr  \n",
      "0         641.058266              395.930561 1993-01-01    1993  \n",
      "1         692.663610              385.036307 1994-01-01    1994  \n",
      "2         707.337201              324.643505 1995-01-01    1995  \n",
      "3         460.663170              298.618198 1996-01-01    1996  \n",
      "4         530.601203              357.271073 1997-01-01    1997  \n"
     ]
    }
   ],
   "source": [
    "import pandas as pd\n",
    "\n",
    "data = pd.read_excel('./data/Global_CALM_MEERA2_data.xlsx',sheet_name = 'unbalanced_all_CALM_sites')\n",
    "data['Year'] = pd.to_datetime(data.Yr, format='%Y')\n",
    "data['Yearstr']=data['Year'].apply(lambda x : x.strftime('%Y'))\n",
    "print(data.head())\n",
    "# print(data.Yr.min())\n",
    "# print(data.Yr.max())\n",
    "# print(data.shape)\n",
    "# print(len(data['Site'].unique()))\n",
    "# print(sum(data.Yr == 2009) )\n",
    "# print(sum(data.Yr == 2007) )"
   ]
  },
  {
   "cell_type": "code",
   "execution_count": 166,
   "metadata": {},
   "outputs": [
    {
     "data": {
      "text/plain": [
       "18"
      ]
     },
     "execution_count": 166,
     "metadata": {},
     "output_type": "execute_result"
    }
   ],
   "source": [
    "# find current # of balanced sites\n",
    "balanced = pd.read_excel('./data/Global_CALM_MEERA2_data.xlsx',sheet_name = 'Balanced_CALM_subset')\n",
    "len(balanced.Site.unique())"
   ]
  },
  {
   "cell_type": "code",
   "execution_count": 167,
   "metadata": {},
   "outputs": [],
   "source": [
    "counts = data.groupby(['Site']).size()\n",
    "# counts.reset_index(inplace=True)\n",
    "counts= pd.DataFrame({'counts':counts})\n",
    "counts.sort_values(by='counts', inplace=True)\n",
    "\n"
   ]
  },
  {
   "cell_type": "code",
   "execution_count": 168,
   "metadata": {},
   "outputs": [
    {
     "data": {
      "text/plain": [
       "<AxesSubplot:xlabel='Site'>"
      ]
     },
     "execution_count": 168,
     "metadata": {},
     "output_type": "execute_result"
    },
    {
     "data": {
      "image/png": "[encoded data removed]",
      "text/plain": [
       "<Figure size 432x288 with 1 Axes>"
      ]
     },
     "metadata": {
      "needs_background": "light"
     },
     "output_type": "display_data"
    }
   ],
   "source": [
    "counts.plot.bar( rot=90)"
   ]
  },
  {
   "cell_type": "code",
   "execution_count": 169,
   "metadata": {},
   "outputs": [
    {
     "data": {
      "text/plain": [
       "<AxesSubplot:xlabel='Site'>"
      ]
     },
     "execution_count": 169,
     "metadata": {},
     "output_type": "execute_result"
    },
    {
     "data": {
      "image/png": "[encoded data removed]",
      "text/plain": [
       "<Figure size 432x288 with 1 Axes>"
      ]
     },
     "metadata": {
      "needs_background": "light"
     },
     "output_type": "display_data"
    }
   ],
   "source": [
    "counts[0:20].plot.bar( rot=90)"
   ]
  },
  {
   "cell_type": "code",
   "execution_count": 180,
   "metadata": {},
   "outputs": [
    {
     "data": {
      "text/plain": [
       "DatetimeIndex(['2008-01-01', '2009-01-01', '2010-01-01', '2011-01-01',\n",
       "               '2012-01-01', '2013-01-01', '2014-01-01', '2015-01-01',\n",
       "               '2016-01-01', '2017-01-01', '2018-01-01'],\n",
       "              dtype='datetime64[ns]', freq='AS-JAN')"
      ]
     },
     "execution_count": 180,
     "metadata": {},
     "output_type": "execute_result"
    }
   ],
   "source": [
    "\n",
    "# Define filter dates\n",
    "start_date = '01.01.2008'\n",
    "end_date = '01.01.2018'\n",
    "\n",
    "# Create a list in minute resolution between start and end date\n",
    "diff = pd.date_range(start_date,end_date,freq='YS')\n",
    "diff"
   ]
  },
  {
   "cell_type": "markdown",
   "metadata": {},
   "source": []
  },
  {
   "cell_type": "code",
   "execution_count": 181,
   "metadata": {},
   "outputs": [
    {
     "name": "stdout",
     "output_type": "stream",
     "text": [
      "   Region          PF Site    Yr Active_Layer_cm  sqrt_Thaw_Degree_Days  \\\n",
      "0  Alaska  Continuous   U1  1993              30              12.853198   \n",
      "1  Alaska  Continuous   U1  1994              35               6.447333   \n",
      "2  Alaska  Continuous   U1  1995              35              10.237655   \n",
      "3  Alaska  Continuous   U1  1996              36               9.401592   \n",
      "4  Alaska  Continuous   U1  1997              37              14.398287   \n",
      "\n",
      "   Max_Snow_Depth_mm  Total_Precipitation_mm       Year Yearstr  \n",
      "0         641.058266              395.930561 1993-01-01    1993  \n",
      "1         692.663610              385.036307 1994-01-01    1994  \n",
      "2         707.337201              324.643505 1995-01-01    1995  \n",
      "3         460.663170              298.618198 1996-01-01    1996  \n",
      "4         530.601203              357.271073 1997-01-01    1997  \n"
     ]
    },
    {
     "data": {
      "text/plain": [
       "73"
      ]
     },
     "execution_count": 181,
     "metadata": {},
     "output_type": "execute_result"
    }
   ],
   "source": [
    "# Keep only sites with all years in diff range\n",
    "filtered = data.groupby('Site').filter(lambda x: all([year in x['Yearstr'].tolist() for year in diff.strftime('%Y').tolist()]))\n",
    "print(filtered.head())\n",
    "len(filtered['Site'].unique())"
   ]
  },
  {
   "cell_type": "code",
   "execution_count": 182,
   "metadata": {},
   "outputs": [
    {
     "data": {
      "text/html": [
       "<div>\n",
       "<style scoped>\n",
       "    .dataframe tbody tr th:only-of-type {\n",
       "        vertical-align: middle;\n",
       "    }\n",
       "\n",
       "    .dataframe tbody tr th {\n",
       "        vertical-align: top;\n",
       "    }\n",
       "\n",
       "    .dataframe thead th {\n",
       "        text-align: right;\n",
       "    }\n",
       "</style>\n",
       "<table border=\"1\" class=\"dataframe\">\n",
       "  <thead>\n",
       "    <tr style=\"text-align: right;\">\n",
       "      <th></th>\n",
       "      <th>Region</th>\n",
       "      <th>PF</th>\n",
       "      <th>Site</th>\n",
       "      <th>Yr</th>\n",
       "      <th>Active_Layer_cm</th>\n",
       "      <th>sqrt_Thaw_Degree_Days</th>\n",
       "      <th>Max_Snow_Depth_mm</th>\n",
       "      <th>Total_Precipitation_mm</th>\n",
       "      <th>Year</th>\n",
       "      <th>Yearstr</th>\n",
       "    </tr>\n",
       "  </thead>\n",
       "  <tbody>\n",
       "    <tr>\n",
       "      <th>0</th>\n",
       "      <td>Alaska</td>\n",
       "      <td>Continuous</td>\n",
       "      <td>U1</td>\n",
       "      <td>1993</td>\n",
       "      <td>30</td>\n",
       "      <td>12.853198</td>\n",
       "      <td>641.058266</td>\n",
       "      <td>395.930561</td>\n",
       "      <td>1993-01-01</td>\n",
       "      <td>1993</td>\n",
       "    </tr>\n",
       "    <tr>\n",
       "      <th>1</th>\n",
       "      <td>Alaska</td>\n",
       "      <td>Continuous</td>\n",
       "      <td>U1</td>\n",
       "      <td>1994</td>\n",
       "      <td>35</td>\n",
       "      <td>6.447333</td>\n",
       "      <td>692.663610</td>\n",
       "      <td>385.036307</td>\n",
       "      <td>1994-01-01</td>\n",
       "      <td>1994</td>\n",
       "    </tr>\n",
       "    <tr>\n",
       "      <th>2</th>\n",
       "      <td>Alaska</td>\n",
       "      <td>Continuous</td>\n",
       "      <td>U1</td>\n",
       "      <td>1995</td>\n",
       "      <td>35</td>\n",
       "      <td>10.237655</td>\n",
       "      <td>707.337201</td>\n",
       "      <td>324.643505</td>\n",
       "      <td>1995-01-01</td>\n",
       "      <td>1995</td>\n",
       "    </tr>\n",
       "    <tr>\n",
       "      <th>3</th>\n",
       "      <td>Alaska</td>\n",
       "      <td>Continuous</td>\n",
       "      <td>U1</td>\n",
       "      <td>1996</td>\n",
       "      <td>36</td>\n",
       "      <td>9.401592</td>\n",
       "      <td>460.663170</td>\n",
       "      <td>298.618198</td>\n",
       "      <td>1996-01-01</td>\n",
       "      <td>1996</td>\n",
       "    </tr>\n",
       "    <tr>\n",
       "      <th>4</th>\n",
       "      <td>Alaska</td>\n",
       "      <td>Continuous</td>\n",
       "      <td>U1</td>\n",
       "      <td>1997</td>\n",
       "      <td>37</td>\n",
       "      <td>14.398287</td>\n",
       "      <td>530.601203</td>\n",
       "      <td>357.271073</td>\n",
       "      <td>1997-01-01</td>\n",
       "      <td>1997</td>\n",
       "    </tr>\n",
       "  </tbody>\n",
       "</table>\n",
       "</div>"
      ],
      "text/plain": [
       "   Region          PF Site    Yr Active_Layer_cm  sqrt_Thaw_Degree_Days  \\\n",
       "0  Alaska  Continuous   U1  1993              30              12.853198   \n",
       "1  Alaska  Continuous   U1  1994              35               6.447333   \n",
       "2  Alaska  Continuous   U1  1995              35              10.237655   \n",
       "3  Alaska  Continuous   U1  1996              36               9.401592   \n",
       "4  Alaska  Continuous   U1  1997              37              14.398287   \n",
       "\n",
       "   Max_Snow_Depth_mm  Total_Precipitation_mm       Year Yearstr  \n",
       "0         641.058266              395.930561 1993-01-01    1993  \n",
       "1         692.663610              385.036307 1994-01-01    1994  \n",
       "2         707.337201              324.643505 1995-01-01    1995  \n",
       "3         460.663170              298.618198 1996-01-01    1996  \n",
       "4         530.601203              357.271073 1997-01-01    1997  "
      ]
     },
     "execution_count": 182,
     "metadata": {},
     "output_type": "execute_result"
    }
   ],
   "source": [
    "data.head()"
   ]
  },
  {
   "cell_type": "code",
   "execution_count": 183,
   "metadata": {},
   "outputs": [
    {
     "data": {
      "text/plain": [
       "Site\n",
       "A16    15\n",
       "C18    20\n",
       "C5A    28\n",
       "C7A    27\n",
       "CH1    29\n",
       "       ..\n",
       "U7B    25\n",
       "U7C    25\n",
       "U8     24\n",
       "U9A    20\n",
       "U9B    28\n",
       "Length: 73, dtype: int64"
      ]
     },
     "execution_count": 183,
     "metadata": {},
     "output_type": "execute_result"
    }
   ],
   "source": [
    "# Groups still have earlier observations, need to filter\n",
    "# list length of each group \n",
    "filtered.groupby('Site').size().head()"
   ]
  },
  {
   "cell_type": "code",
   "execution_count": 189,
   "metadata": {},
   "outputs": [
    {
     "data": {
      "text/html": [
       "<div>\n",
       "<style scoped>\n",
       "    .dataframe tbody tr th:only-of-type {\n",
       "        vertical-align: middle;\n",
       "    }\n",
       "\n",
       "    .dataframe tbody tr th {\n",
       "        vertical-align: top;\n",
       "    }\n",
       "\n",
       "    .dataframe thead th {\n",
       "        text-align: right;\n",
       "    }\n",
       "</style>\n",
       "<table border=\"1\" class=\"dataframe\">\n",
       "  <thead>\n",
       "    <tr style=\"text-align: right;\">\n",
       "      <th></th>\n",
       "      <th>Region</th>\n",
       "      <th>PF</th>\n",
       "      <th>Site</th>\n",
       "      <th>Yr</th>\n",
       "      <th>Active_Layer_cm</th>\n",
       "      <th>sqrt_Thaw_Degree_Days</th>\n",
       "      <th>Max_Snow_Depth_mm</th>\n",
       "      <th>Total_Precipitation_mm</th>\n",
       "      <th>Year</th>\n",
       "      <th>Yearstr</th>\n",
       "    </tr>\n",
       "  </thead>\n",
       "  <tbody>\n",
       "    <tr>\n",
       "      <th>15</th>\n",
       "      <td>Alaska</td>\n",
       "      <td>Continuous</td>\n",
       "      <td>U1</td>\n",
       "      <td>2008</td>\n",
       "      <td>34</td>\n",
       "      <td>11.654343</td>\n",
       "      <td>514.459848</td>\n",
       "      <td>297.430212</td>\n",
       "      <td>2008-01-01</td>\n",
       "      <td>2008</td>\n",
       "    </tr>\n",
       "    <tr>\n",
       "      <th>16</th>\n",
       "      <td>Alaska</td>\n",
       "      <td>Continuous</td>\n",
       "      <td>U1</td>\n",
       "      <td>2009</td>\n",
       "      <td>34</td>\n",
       "      <td>15.907646</td>\n",
       "      <td>618.878663</td>\n",
       "      <td>314.779541</td>\n",
       "      <td>2009-01-01</td>\n",
       "      <td>2009</td>\n",
       "    </tr>\n",
       "    <tr>\n",
       "      <th>17</th>\n",
       "      <td>Alaska</td>\n",
       "      <td>Continuous</td>\n",
       "      <td>U1</td>\n",
       "      <td>2010</td>\n",
       "      <td>41</td>\n",
       "      <td>15.624951</td>\n",
       "      <td>544.629514</td>\n",
       "      <td>306.066766</td>\n",
       "      <td>2010-01-01</td>\n",
       "      <td>2010</td>\n",
       "    </tr>\n",
       "    <tr>\n",
       "      <th>18</th>\n",
       "      <td>Alaska</td>\n",
       "      <td>Continuous</td>\n",
       "      <td>U1</td>\n",
       "      <td>2011</td>\n",
       "      <td>41</td>\n",
       "      <td>18.680877</td>\n",
       "      <td>552.610755</td>\n",
       "      <td>297.296169</td>\n",
       "      <td>2011-01-01</td>\n",
       "      <td>2011</td>\n",
       "    </tr>\n",
       "    <tr>\n",
       "      <th>19</th>\n",
       "      <td>Alaska</td>\n",
       "      <td>Continuous</td>\n",
       "      <td>U1</td>\n",
       "      <td>2012</td>\n",
       "      <td>38</td>\n",
       "      <td>15.217272</td>\n",
       "      <td>570.404708</td>\n",
       "      <td>298.076770</td>\n",
       "      <td>2012-01-01</td>\n",
       "      <td>2012</td>\n",
       "    </tr>\n",
       "  </tbody>\n",
       "</table>\n",
       "</div>"
      ],
      "text/plain": [
       "    Region          PF Site    Yr Active_Layer_cm  sqrt_Thaw_Degree_Days  \\\n",
       "15  Alaska  Continuous   U1  2008              34              11.654343   \n",
       "16  Alaska  Continuous   U1  2009              34              15.907646   \n",
       "17  Alaska  Continuous   U1  2010              41              15.624951   \n",
       "18  Alaska  Continuous   U1  2011              41              18.680877   \n",
       "19  Alaska  Continuous   U1  2012              38              15.217272   \n",
       "\n",
       "    Max_Snow_Depth_mm  Total_Precipitation_mm       Year Yearstr  \n",
       "15         514.459848              297.430212 2008-01-01    2008  \n",
       "16         618.878663              314.779541 2009-01-01    2009  \n",
       "17         544.629514              306.066766 2010-01-01    2010  \n",
       "18         552.610755              297.296169 2011-01-01    2011  \n",
       "19         570.404708              298.076770 2012-01-01    2012  "
      ]
     },
     "execution_count": 189,
     "metadata": {},
     "output_type": "execute_result"
    }
   ],
   "source": [
    "\n",
    "keepers = filtered[filtered['Yearstr'].isin(diff.strftime('%Y').tolist())]\n",
    "keepers.head()"
   ]
  },
  {
   "cell_type": "code",
   "execution_count": 204,
   "metadata": {},
   "outputs": [
    {
     "data": {
      "text/plain": [
       "73"
      ]
     },
     "execution_count": 204,
     "metadata": {},
     "output_type": "execute_result"
    }
   ],
   "source": [
    "# check if there are 11 for all sites\n",
    "all(keepers.groupby('Site').size()==11)\n",
    "len((keepers.groupby('Site').size()).unique()) ==1\n",
    "(keepers.groupby('Site').size()).unique()[0]\n",
    "len(keepers['Site'].unique())"
   ]
  },
  {
   "cell_type": "code",
   "execution_count": 195,
   "metadata": {},
   "outputs": [],
   "source": [
    "keepers.to_csv('./filtered_balanced_2008_2018_n11_N73.csv')"
   ]
  },
  {
   "cell_type": "code",
   "execution_count": 251,
   "metadata": {},
   "outputs": [
    {
     "name": "stdout",
     "output_type": "stream",
     "text": [
      "printed\n",
      "printed\n",
      "printed\n",
      "printed\n",
      "printed\n",
      "printed\n"
     ]
    }
   ],
   "source": [
    "# quickly write out possible balanced samples\n",
    "\n",
    "# Define filter dates\n",
    "end_date = 2020\n",
    "\n",
    "for start_date in range(2003,2008+1):\n",
    "# start_date = 2004\n",
    "\n",
    "    # Create a list in minute resolution between start and end date\n",
    "    diff = [str(x) for x in range(start_date,end_date+1)]\n",
    "\n",
    "    filtered = data.groupby('Site').filter(lambda x: all([year in x['Yearstr'].tolist() for year in diff]))\n",
    "    keepers = filtered[filtered['Yearstr'].isin(diff)]\n",
    "\n",
    "    # drop G1 and R36 (no snow measures)\n",
    "    keepers = keepers[~(keepers.Site.isin(['G1','G2','R36']))]\n",
    "\n",
    "    # if all groups are same length\n",
    "    if len((keepers.groupby('Site').size()).unique()) == 1:\n",
    "        print('printed')\n",
    "        keepers.drop(columns=['Yearstr','Year']).to_csv('./data/possible_balanced_data/filtered_balanced_'+str(start_date)+'_'+str(end_date)+'_n'+\n",
    "            str((keepers.groupby('Site').size()).unique()[0])+\n",
    "            '_N'+str(len(keepers['Site'].unique()))+'.csv')"
   ]
  },
  {
   "cell_type": "code",
   "execution_count": 252,
   "metadata": {},
   "outputs": [
    {
     "data": {
      "text/plain": [
       "167.4"
      ]
     },
     "execution_count": 252,
     "metadata": {},
     "output_type": "execute_result"
    }
   ],
   "source": [
    "2511/15"
   ]
  },
  {
   "cell_type": "code",
   "execution_count": null,
   "metadata": {},
   "outputs": [],
   "source": []
  }
 ],
 "metadata": {
  "interpreter": {
   "hash": "b0dda34b77d5cb0042b58411935441119975d84f418f297b97ebd44402c01f0c"
  },
  "kernelspec": {
   "display_name": "Python 3.7.10 64-bit ('pygisbookgw': conda)",
   "language": "python",
   "name": "python3"
  },
  "language_info": {
   "codemirror_mode": {
    "name": "ipython",
    "version": 3
   },
   "file_extension": ".py",
   "mimetype": "text/x-python",
   "name": "python",
   "nbconvert_exporter": "python",
   "pygments_lexer": "ipython3",
   "version": "3.7.10"
  },
  "orig_nbformat": 4
 },
 "nbformat": 4,
 "nbformat_minor": 2
}
